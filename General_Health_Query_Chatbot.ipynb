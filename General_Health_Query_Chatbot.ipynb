{
  "cells": [
    {
      "cell_type": "markdown",
      "source": [],
      "metadata": {
        "id": "Ntc-TWfxQxLL"
      }
    },
    {
      "cell_type": "markdown",
      "source": [
        "\"\"\"\n",
        "# Health Chatbot using OpenAI GPT-3.5 (Google Colab Project)\n",
        "\n",
        "## Objective:\n",
        "This chatbot can answer general health-related questions using a Large Language Model (LLM).\n",
        "It uses the OpenAI GPT-3.5 model to provide friendly and safe responses.\n",
        "\n",
        "---\n",
        "\n",
        "## How to Use:\n",
        "1. Run this notebook in **Google Colab**.\n",
        "2. Enter your **OpenAI API key** when prompted.\n",
        "3. Ask any general health-related question (e.g., \"What causes a sore throat?\")\n",
        "4. To exit, type **'exit'** or **'quit'**.\n",
        "\n",
        "---\n",
        "\n",
        "## Important:\n",
        "This project uses the **OpenAI API** to access the GPT-3.5 model.  \n",
        "You’ll be asked to **enter your API key securely** using Python’s `getpass()` function.\n",
        "\n",
        "Don't worry — your key will **not be displayed or stored**.\n",
        "\n",
        "---\n",
        "\n",
        "##Safety Note:\n",
        "This chatbot is for **informational purposes only**.  \n",
        "It does **not provide medical diagnosis or emergency advice**.\n",
        "\n",
        "Unsafe queries (like asking for treatment or prescriptions) will be filtered out automatically.\n",
        "\n",
        "---\n",
        "\n",
        "##Example Questions:\n",
        "- \"What causes a headache?\"\n",
        "- \"Is it normal to feel tired after a cold?\"\n",
        "- \"What are the symptoms of vitamin D deficiency?\"\n",
        "\n",
        "Now scroll down and run the next code cell to start using the chatbot.\n",
        "\"\"\"\n",
        "\n"
      ],
      "metadata": {
        "id": "KhnDHKZuQxJu"
      }
    },
    {
      "cell_type": "code",
      "execution_count": null,
      "metadata": {
        "colab": {
          "base_uri": "https://localhost:8080/"
        },
        "id": "XCixzTZNsM0H",
        "outputId": "faf4fc94-c8d1-4c90-af09-e0a5ab64785d"
      },
      "outputs": [
        {
          "output_type": "stream",
          "name": "stdout",
          "text": [
            "Requirement already satisfied: openai in /usr/local/lib/python3.11/dist-packages (1.90.0)\n",
            "Requirement already satisfied: anyio<5,>=3.5.0 in /usr/local/lib/python3.11/dist-packages (from openai) (4.9.0)\n",
            "Requirement already satisfied: distro<2,>=1.7.0 in /usr/local/lib/python3.11/dist-packages (from openai) (1.9.0)\n",
            "Requirement already satisfied: httpx<1,>=0.23.0 in /usr/local/lib/python3.11/dist-packages (from openai) (0.28.1)\n",
            "Requirement already satisfied: jiter<1,>=0.4.0 in /usr/local/lib/python3.11/dist-packages (from openai) (0.10.0)\n",
            "Requirement already satisfied: pydantic<3,>=1.9.0 in /usr/local/lib/python3.11/dist-packages (from openai) (2.11.7)\n",
            "Requirement already satisfied: sniffio in /usr/local/lib/python3.11/dist-packages (from openai) (1.3.1)\n",
            "Requirement already satisfied: tqdm>4 in /usr/local/lib/python3.11/dist-packages (from openai) (4.67.1)\n",
            "Requirement already satisfied: typing-extensions<5,>=4.11 in /usr/local/lib/python3.11/dist-packages (from openai) (4.14.0)\n",
            "Requirement already satisfied: idna>=2.8 in /usr/local/lib/python3.11/dist-packages (from anyio<5,>=3.5.0->openai) (3.10)\n",
            "Requirement already satisfied: certifi in /usr/local/lib/python3.11/dist-packages (from httpx<1,>=0.23.0->openai) (2025.6.15)\n",
            "Requirement already satisfied: httpcore==1.* in /usr/local/lib/python3.11/dist-packages (from httpx<1,>=0.23.0->openai) (1.0.9)\n",
            "Requirement already satisfied: h11>=0.16 in /usr/local/lib/python3.11/dist-packages (from httpcore==1.*->httpx<1,>=0.23.0->openai) (0.16.0)\n",
            "Requirement already satisfied: annotated-types>=0.6.0 in /usr/local/lib/python3.11/dist-packages (from pydantic<3,>=1.9.0->openai) (0.7.0)\n",
            "Requirement already satisfied: pydantic-core==2.33.2 in /usr/local/lib/python3.11/dist-packages (from pydantic<3,>=1.9.0->openai) (2.33.2)\n",
            "Requirement already satisfied: typing-inspection>=0.4.0 in /usr/local/lib/python3.11/dist-packages (from pydantic<3,>=1.9.0->openai) (0.4.1)\n"
          ]
        }
      ],
      "source": [
        "#install opner ai\n",
        "!pip install openai"
      ]
    },
    {
      "cell_type": "code",
      "execution_count": null,
      "metadata": {
        "id": "4_SrYh-sXLHp"
      },
      "outputs": [],
      "source": [
        "#import necessary modules\n",
        "import openai\n",
        "import getpass"
      ]
    },
    {
      "cell_type": "code",
      "execution_count": null,
      "metadata": {
        "id": "zSKUc8m7Xcx7",
        "colab": {
          "base_uri": "https://localhost:8080/"
        },
        "outputId": "926820a4-9112-49e1-d4dc-9d2cce14880a"
      },
      "outputs": [
        {
          "name": "stdout",
          "output_type": "stream",
          "text": [
            "enter your api key··········\n"
          ]
        }
      ],
      "source": [
        "#API key setup\n",
        "openai.api_key=getpass.getpass('enter your api key')"
      ]
    },
    {
      "cell_type": "code",
      "execution_count": null,
      "metadata": {
        "id": "o4Ob3X1yYG7V"
      },
      "outputs": [],
      "source": [
        "#Base prompt for the chatbot\n",
        "BASE_PROMPT = \"\"\"\n",
        "You are a helpful and friendly medical assistant.\n",
        "You explain common health-related issues in simple and clear language.\n",
        "You DO NOT give any diagnosis or prescriptions.\n",
        "If a user asks about a serious or emergency issue, you must advise them to consult a licensed medical professional.\n",
        "\n",
        "Only give general, educational information that is safe for public awareness.\n",
        "\"\"\""
      ]
    },
    {
      "cell_type": "code",
      "execution_count": null,
      "metadata": {
        "id": "yXDlf6Ngcvje"
      },
      "outputs": [],
      "source": [
        "#safety filter for risky queries\n",
        "Restricted_keywords=[\"prescribe\", \"diagnose\", \"emergency\", \"mental illness\",\n",
        "    \"surgery\", \"cure cancer\", \"treat diabetes\", \"antibiotics dosage\", \"asthma attack\"]"
      ]
    },
    {
      "cell_type": "code",
      "execution_count": null,
      "metadata": {
        "id": "z-XlVGP8h9Am"
      },
      "outputs": [],
      "source": [
        "#This function checks if a search query is safe by making sure it doesn’t contain any restricted words\n",
        "def is_safe_query(query):\n",
        "    return not any(keyword.lower() in query.lower() for keyword in Restricted_keywords)"
      ]
    },
    {
      "cell_type": "code",
      "execution_count": null,
      "metadata": {
        "id": "Sei7O495kqmt",
        "colab": {
          "base_uri": "https://localhost:8080/"
        },
        "outputId": "75088784-096e-4f5c-9fd7-a87632e22998"
      },
      "outputs": [
        {
          "output_type": "stream",
          "name": "stdout",
          "text": [
            "Requirement already satisfied: openai in /usr/local/lib/python3.11/dist-packages (1.90.0)\n",
            "Requirement already satisfied: anyio<5,>=3.5.0 in /usr/local/lib/python3.11/dist-packages (from openai) (4.9.0)\n",
            "Requirement already satisfied: distro<2,>=1.7.0 in /usr/local/lib/python3.11/dist-packages (from openai) (1.9.0)\n",
            "Requirement already satisfied: httpx<1,>=0.23.0 in /usr/local/lib/python3.11/dist-packages (from openai) (0.28.1)\n",
            "Requirement already satisfied: jiter<1,>=0.4.0 in /usr/local/lib/python3.11/dist-packages (from openai) (0.10.0)\n",
            "Requirement already satisfied: pydantic<3,>=1.9.0 in /usr/local/lib/python3.11/dist-packages (from openai) (2.11.7)\n",
            "Requirement already satisfied: sniffio in /usr/local/lib/python3.11/dist-packages (from openai) (1.3.1)\n",
            "Requirement already satisfied: tqdm>4 in /usr/local/lib/python3.11/dist-packages (from openai) (4.67.1)\n",
            "Requirement already satisfied: typing-extensions<5,>=4.11 in /usr/local/lib/python3.11/dist-packages (from openai) (4.14.0)\n",
            "Requirement already satisfied: idna>=2.8 in /usr/local/lib/python3.11/dist-packages (from anyio<5,>=3.5.0->openai) (3.10)\n",
            "Requirement already satisfied: certifi in /usr/local/lib/python3.11/dist-packages (from httpx<1,>=0.23.0->openai) (2025.6.15)\n",
            "Requirement already satisfied: httpcore==1.* in /usr/local/lib/python3.11/dist-packages (from httpx<1,>=0.23.0->openai) (1.0.9)\n",
            "Requirement already satisfied: h11>=0.16 in /usr/local/lib/python3.11/dist-packages (from httpcore==1.*->httpx<1,>=0.23.0->openai) (0.16.0)\n",
            "Requirement already satisfied: annotated-types>=0.6.0 in /usr/local/lib/python3.11/dist-packages (from pydantic<3,>=1.9.0->openai) (0.7.0)\n",
            "Requirement already satisfied: pydantic-core==2.33.2 in /usr/local/lib/python3.11/dist-packages (from pydantic<3,>=1.9.0->openai) (2.33.2)\n",
            "Requirement already satisfied: typing-inspection>=0.4.0 in /usr/local/lib/python3.11/dist-packages (from pydantic<3,>=1.9.0->openai) (0.4.1)\n"
          ]
        }
      ],
      "source": [
        "!pip install --upgrade openai"
      ]
    },
    {
      "cell_type": "code",
      "execution_count": null,
      "metadata": {
        "id": "Lydp28JSiAxp"
      },
      "outputs": [],
      "source": [
        "import openai\n",
        "from openai import OpenAI\n",
        "\n",
        "client = OpenAI(api_key=openai.api_key)  # Or directly: client = OpenAI(api_key=\"your-key\")\n",
        "\n",
        "def ask_healthbot(user_query):\n",
        "    if not is_safe_query(user_query):\n",
        "        return \"I'm sorry, but I cannot provide advice on that topic. Please consult a licensed healthcare professional.\"\n",
        "\n",
        "    try:\n",
        "        response = client.chat.completions.create(\n",
        "            model=\"gpt-3.5-turbo\",\n",
        "            messages=[\n",
        "                {\"role\": \"system\", \"content\": BASE_PROMPT},\n",
        "                {\"role\": \"user\", \"content\": user_query}\n",
        "            ],\n",
        "            temperature=0.7,\n",
        "            max_tokens=300\n",
        "        )\n",
        "        return response.choices[0].message.content.strip()\n",
        "    except Exception as e:\n",
        "        return f\"Error: {e}\"\n"
      ]
    },
    {
      "cell_type": "code",
      "execution_count": null,
      "metadata": {
        "id": "mRrZNesPiqwP"
      },
      "outputs": [],
      "source": [
        " #Run the chatbot interactively\n",
        "def run_chatbot():\n",
        "    print(\"Welcome to the General Health Chatbot! (Type 'exit' to quit)\\n\")\n",
        "    while True:\n",
        "        user_input = input(\"You: \")\n",
        "        if user_input.lower() in ['exit', 'quit']:\n",
        "            print(\"Bot: Stay healthy! Goodbye\")\n",
        "            break\n",
        "        response = ask_healthbot(user_input)\n",
        "        print(f\"Bot: {response}\\n\")"
      ]
    },
    {
      "cell_type": "code",
      "execution_count": null,
      "metadata": {
        "id": "7Otp_nA9joGS",
        "colab": {
          "base_uri": "https://localhost:8080/"
        },
        "outputId": "0894c00c-7a1a-4f2c-91ff-e9a8991ea2c0"
      },
      "outputs": [
        {
          "output_type": "stream",
          "name": "stdout",
          "text": [
            "Welcome to the General Health Chatbot! (Type 'exit' to quit)\n",
            "\n",
            "You: is paracetamol safe for child\n",
            "Bot: Error: Error code: 429 - {'error': {'message': 'You exceeded your current quota, please check your plan and billing details. For more information on this error, read the docs: https://platform.openai.com/docs/guides/error-codes/api-errors.', 'type': 'insufficient_quota', 'param': None, 'code': 'insufficient_quota'}}\n",
            "\n"
          ]
        }
      ],
      "source": [
        "#Start chatbot\n",
        "run_chatbot()"
      ]
    },
    {
      "cell_type": "code",
      "execution_count": null,
      "metadata": {
        "id": "_J6r2Qukjsc7"
      },
      "outputs": [],
      "source": []
    }
  ],
  "metadata": {
    "colab": {
      "provenance": []
    },
    "kernelspec": {
      "display_name": "Python 3",
      "name": "python3"
    },
    "language_info": {
      "name": "python"
    }
  },
  "nbformat": 4,
  "nbformat_minor": 0
}